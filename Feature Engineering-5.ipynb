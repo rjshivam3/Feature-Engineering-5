{
 "cells": [
  {
   "cell_type": "markdown",
   "id": "7473d353-49c1-444b-b7be-058b66540803",
   "metadata": {},
   "source": [
    "### Q1. What is the difference between Ordinal Encoding and Label Encoding? Provide an example of when you might choose one over the other.\n",
    "\n",
    "\n",
    "Ordinal Encoding and Label Encoding are techniques to convert categorical data into numerical format.\n",
    "\n",
    "- **Label Encoding:**\n",
    "  - This assigns a unique integer to each category. This approach does not imply any order between categories. It is typically used for categorical data that does not have a specific order.\n",
    "  - Example: If you have a feature `Color` with categories `Red`, `Green`, and `Blue`, label encoding might assign `0` to `Red`, `1` to `Green`, and `2` to `Blue`.\n",
    "\n",
    "- **Ordinal Encoding:**\n",
    "  - This also assigns a unique integer to each category but implies an order or ranking among the categories. It is used for categorical data that has a clear order.\n",
    "  - Example: For a feature `Size` with categories `Small`, `Medium`, and `Large`, ordinal encoding might assign `0` to `Small`, `1` to `Medium`, and `2` to `Large`.\n",
    "\n",
    "Choose Label Encoding when the categorical variable does not have an intrinsic order (e.g., color, brand names). Choose Ordinal Encoding when the categorical variable has a meaningful order (e.g., rating scales, sizes).\n"
   ]
  },
  {
   "cell_type": "markdown",
   "id": "f3bbf38a-139c-4b31-b409-3b13561ea10c",
   "metadata": {},
   "source": [
    "### Q2. Explain how Target Guided Ordinal Encoding works and provide an example of when you might use it in a machine learning project.\n",
    "\n",
    "\n",
    "Target Guided Ordinal Encoding involves ordering the categories according to the mean (or median) of the target variable for each category. It is useful when there is a correlation between the categorical feature and the target variable.\n",
    "\n",
    "**Steps:**\n",
    "1. Calculate the mean (or median) of the target variable for each category.\n",
    "2. Assign ranks to the categories based on these statistics.\n",
    "3. Replace categories with their corresponding ranks.\n",
    "\n",
    "**Example:**\n",
    "Suppose we have a dataset with a categorical variable `City` and a target variable `House Price`. If we calculate the mean house price for each city and rank the cities accordingly, we can replace city names with their rank.\n",
    "\n",
    "Use Target Guided Ordinal Encoding when you believe the categorical variable has a significant impact on the target variable.\n"
   ]
  },
  {
   "cell_type": "markdown",
   "id": "4698ff76-71c2-4946-8937-260a74b7ca9a",
   "metadata": {},
   "source": [
    "### Q3. Define covariance and explain why it is important in statistical analysis. How is covariance calculated?\n",
    "\n",
    "Covariance is a measure of how much two random variables vary together. If the greater values of one variable correspond to the greater values of the other variable, and the lesser values correspond to the lesser values, the covariance is positive. If greater values of one variable correspond to lesser values of the other variable, the covariance is negative.\n",
    "\n",
    "**Importance:**\n",
    "Covariance is important because it indicates the direction of the linear relationship between variables. It helps in understanding how one variable changes with respect to another.\n",
    "\n",
    "**Calculation:**\n",
    "Cov(X, Y) = Σ ((X_i - mean(X)) * (Y_i - mean(Y))) / (n - 1)\n",
    "Where:\n",
    "- X and Y are the two variables\n",
    "- X_i and Y_i are individual samples\n",
    "- mean(X) and mean(Y) are the means of the variables\n",
    "- n is the number of samples\n"
   ]
  },
  {
   "cell_type": "markdown",
   "id": "d4434064-04d2-40fe-9df7-158025f712fc",
   "metadata": {},
   "source": [
    "### Q4. For a dataset with the following categorical variables: Color (red, green, blue), Size (small, medium, large), and Material (wood, metal, plastic), perform label encoding using Python's scikit-learn library. Show your code and explain the output.\n",
    "\n"
   ]
  },
  {
   "cell_type": "code",
   "execution_count": 3,
   "id": "806a8892-43b4-4eec-8a3b-78f94182dae9",
   "metadata": {},
   "outputs": [
    {
     "data": {
      "text/html": [
       "<div>\n",
       "<style scoped>\n",
       "    .dataframe tbody tr th:only-of-type {\n",
       "        vertical-align: middle;\n",
       "    }\n",
       "\n",
       "    .dataframe tbody tr th {\n",
       "        vertical-align: top;\n",
       "    }\n",
       "\n",
       "    .dataframe thead th {\n",
       "        text-align: right;\n",
       "    }\n",
       "</style>\n",
       "<table border=\"1\" class=\"dataframe\">\n",
       "  <thead>\n",
       "    <tr style=\"text-align: right;\">\n",
       "      <th></th>\n",
       "      <th>Color</th>\n",
       "      <th>Size</th>\n",
       "      <th>Material</th>\n",
       "    </tr>\n",
       "  </thead>\n",
       "  <tbody>\n",
       "    <tr>\n",
       "      <th>0</th>\n",
       "      <td>2</td>\n",
       "      <td>2</td>\n",
       "      <td>2</td>\n",
       "    </tr>\n",
       "    <tr>\n",
       "      <th>1</th>\n",
       "      <td>1</td>\n",
       "      <td>1</td>\n",
       "      <td>0</td>\n",
       "    </tr>\n",
       "    <tr>\n",
       "      <th>2</th>\n",
       "      <td>0</td>\n",
       "      <td>0</td>\n",
       "      <td>1</td>\n",
       "    </tr>\n",
       "    <tr>\n",
       "      <th>3</th>\n",
       "      <td>1</td>\n",
       "      <td>1</td>\n",
       "      <td>0</td>\n",
       "    </tr>\n",
       "    <tr>\n",
       "      <th>4</th>\n",
       "      <td>2</td>\n",
       "      <td>2</td>\n",
       "      <td>2</td>\n",
       "    </tr>\n",
       "  </tbody>\n",
       "</table>\n",
       "</div>"
      ],
      "text/plain": [
       "   Color  Size  Material\n",
       "0      2     2         2\n",
       "1      1     1         0\n",
       "2      0     0         1\n",
       "3      1     1         0\n",
       "4      2     2         2"
      ]
     },
     "execution_count": 3,
     "metadata": {},
     "output_type": "execute_result"
    }
   ],
   "source": [
    "import pandas as pd\n",
    "from sklearn.preprocessing import LabelEncoder\n",
    "\n",
    "data = {\n",
    "    'Color': ['red', 'green', 'blue', 'green', 'red'],\n",
    "    'Size': ['small', 'medium', 'large', 'medium', 'small'],\n",
    "    'Material': ['wood', 'metal', 'plastic', 'metal', 'wood']\n",
    "}\n",
    "df = pd.DataFrame(data)\n",
    "\n",
    "label_encoder = LabelEncoder()\n",
    "\n",
    "df['Color'] = label_encoder.fit_transform(df['Color'])\n",
    "df['Size'] = label_encoder.fit_transform(df['Size'])\n",
    "df['Material'] = label_encoder.fit_transform(df['Material'])\n",
    "\n",
    "df\n"
   ]
  },
  {
   "cell_type": "markdown",
   "id": "67a08edb-81d9-41d9-abcb-1e25eaaed4cd",
   "metadata": {},
   "source": [
    "The output DataFrame will show the categorical variables encoded as integers. For example:\n",
    "- `Color` might be encoded as `2`, `1`, `0` corresponding to `red`, `green`, `blue`\n",
    "- `Size` might be encoded as `2`, `1`, `0` corresponding to `small`, `medium`, `large`\n",
    "- `Material` might be encoded as `2`, `0`, `1` corresponding to `wood`, `metal`, `plastic`\n"
   ]
  },
  {
   "cell_type": "markdown",
   "id": "b9fae120-8079-4173-80d0-0a2b58fdd346",
   "metadata": {},
   "source": [
    "### Q5. Calculate the covariance matrix for the following variables in a dataset: Age, Income, and Education level. Interpret the results.\n"
   ]
  },
  {
   "cell_type": "code",
   "execution_count": 4,
   "id": "5c811509-5a97-47fd-8836-3d1602e305a6",
   "metadata": {},
   "outputs": [
    {
     "data": {
      "text/html": [
       "<div>\n",
       "<style scoped>\n",
       "    .dataframe tbody tr th:only-of-type {\n",
       "        vertical-align: middle;\n",
       "    }\n",
       "\n",
       "    .dataframe tbody tr th {\n",
       "        vertical-align: top;\n",
       "    }\n",
       "\n",
       "    .dataframe thead th {\n",
       "        text-align: right;\n",
       "    }\n",
       "</style>\n",
       "<table border=\"1\" class=\"dataframe\">\n",
       "  <thead>\n",
       "    <tr style=\"text-align: right;\">\n",
       "      <th></th>\n",
       "      <th>Age</th>\n",
       "      <th>Income</th>\n",
       "      <th>Education</th>\n",
       "    </tr>\n",
       "  </thead>\n",
       "  <tbody>\n",
       "    <tr>\n",
       "      <th>Age</th>\n",
       "      <td>141.8</td>\n",
       "      <td>3.815000e+05</td>\n",
       "      <td>30.7</td>\n",
       "    </tr>\n",
       "    <tr>\n",
       "      <th>Income</th>\n",
       "      <td>381500.0</td>\n",
       "      <td>1.032500e+09</td>\n",
       "      <td>83500.0</td>\n",
       "    </tr>\n",
       "    <tr>\n",
       "      <th>Education</th>\n",
       "      <td>30.7</td>\n",
       "      <td>8.350000e+04</td>\n",
       "      <td>6.8</td>\n",
       "    </tr>\n",
       "  </tbody>\n",
       "</table>\n",
       "</div>"
      ],
      "text/plain": [
       "                Age        Income  Education\n",
       "Age           141.8  3.815000e+05       30.7\n",
       "Income     381500.0  1.032500e+09    83500.0\n",
       "Education      30.7  8.350000e+04        6.8"
      ]
     },
     "execution_count": 4,
     "metadata": {},
     "output_type": "execute_result"
    }
   ],
   "source": [
    "import pandas as pd\n",
    "\n",
    "data = {\n",
    "    'Age': [25, 45, 35, 50, 23],\n",
    "    'Income': [50000, 100000, 75000, 120000, 45000],\n",
    "    'Education': [12, 16, 14, 18, 12]\n",
    "}\n",
    "df = pd.DataFrame(data)\n",
    "\n",
    "cov_matrix = df.cov()\n",
    "cov_matrix\n"
   ]
  },
  {
   "cell_type": "markdown",
   "id": "395d5306-8c14-421a-b361-798cd33ffb69",
   "metadata": {},
   "source": [
    "### Q6. You are working on a machine learning project with a dataset containing several categorical variables, including Gender (Male/Female), Education Level (High School/Bachelor's/Master's/PhD), and Employment Status (Unemployed/Part-Time/Full-Time). Which encoding method would you use for each variable, and why?\n",
    "\n",
    "\n",
    "- **Gender:**\n",
    "  Use Label Encoding because there are only two categories and no intrinsic order (Male, Female).\n",
    "\n",
    "- **Education Level:**\n",
    "  Use Ordinal Encoding because the categories have a meaningful order (High School < Bachelor's < Master's < PhD).\n",
    "\n",
    "- **Employment Status:**\n",
    "  Use One-Hot Encoding because there are multiple categories with no intrinsic order (Unemployed, Part-Time, Full-Time).\n"
   ]
  },
  {
   "cell_type": "markdown",
   "id": "6f5f44b1-bb9a-4a24-8902-a009d2c9b09b",
   "metadata": {},
   "source": [
    "### Q7. You are analyzing a dataset with two continuous variables, Temperature and Humidity, and two categorical variables, Weather Condition (Sunny/Cloudy/Rainy) and Wind Direction (North/South/East/West). Calculate the covariance between each pair of variables and interpret the results.\n"
   ]
  },
  {
   "cell_type": "code",
   "execution_count": 5,
   "id": "6cf61948-a22b-4cc8-b876-b1ca9bca0e8c",
   "metadata": {},
   "outputs": [
    {
     "data": {
      "text/html": [
       "<div>\n",
       "<style scoped>\n",
       "    .dataframe tbody tr th:only-of-type {\n",
       "        vertical-align: middle;\n",
       "    }\n",
       "\n",
       "    .dataframe tbody tr th {\n",
       "        vertical-align: top;\n",
       "    }\n",
       "\n",
       "    .dataframe thead th {\n",
       "        text-align: right;\n",
       "    }\n",
       "</style>\n",
       "<table border=\"1\" class=\"dataframe\">\n",
       "  <thead>\n",
       "    <tr style=\"text-align: right;\">\n",
       "      <th></th>\n",
       "      <th>Temperature</th>\n",
       "      <th>Humidity</th>\n",
       "    </tr>\n",
       "  </thead>\n",
       "  <tbody>\n",
       "    <tr>\n",
       "      <th>Temperature</th>\n",
       "      <td>9.30</td>\n",
       "      <td>-3.25</td>\n",
       "    </tr>\n",
       "    <tr>\n",
       "      <th>Humidity</th>\n",
       "      <td>-3.25</td>\n",
       "      <td>14.50</td>\n",
       "    </tr>\n",
       "  </tbody>\n",
       "</table>\n",
       "</div>"
      ],
      "text/plain": [
       "             Temperature  Humidity\n",
       "Temperature         9.30     -3.25\n",
       "Humidity           -3.25     14.50"
      ]
     },
     "execution_count": 5,
     "metadata": {},
     "output_type": "execute_result"
    }
   ],
   "source": [
    "data = {\n",
    "    'Temperature': [30, 25, 27, 22, 28],\n",
    "    'Humidity': [70, 65, 68, 75, 72]\n",
    "}\n",
    "df = pd.DataFrame(data)\n",
    "\n",
    "cov_temp_humidity = df.cov()\n",
    "cov_temp_humidity\n"
   ]
  },
  {
   "cell_type": "markdown",
   "id": "c0d926cc-5fb3-42df-b988-0cbbacfe92bf",
   "metadata": {},
   "source": [
    "The covariance matrix will show the covariance between Temperature and Humidity.\n",
    "- A positive value indicates that as Temperature increases, Humidity tends to increase as well.\n",
    "- A negative value indicates that as Temperature increases, Humidity tends to decrease.\n",
    "- Since categorical variables cannot be directly used in covariance calculations, they are not included in this analysis.\n"
   ]
  },
  {
   "cell_type": "code",
   "execution_count": null,
   "id": "eace891c-1e56-4ed3-a784-92c1df59b7b2",
   "metadata": {},
   "outputs": [],
   "source": []
  }
 ],
 "metadata": {
  "kernelspec": {
   "display_name": "Python 3 (ipykernel)",
   "language": "python",
   "name": "python3"
  },
  "language_info": {
   "codemirror_mode": {
    "name": "ipython",
    "version": 3
   },
   "file_extension": ".py",
   "mimetype": "text/x-python",
   "name": "python",
   "nbconvert_exporter": "python",
   "pygments_lexer": "ipython3",
   "version": "3.10.8"
  }
 },
 "nbformat": 4,
 "nbformat_minor": 5
}
